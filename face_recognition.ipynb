{
 "cells": [
  {
   "cell_type": "code",
   "execution_count": 1,
   "id": "e6e5004b",
   "metadata": {},
   "outputs": [
    {
     "name": "stdout",
     "output_type": "stream",
     "text": [
      "Requirement already satisfied: opencv-python in c:\\users\\91812\\anaconda3\\lib\\site-packages (4.8.0.76)\n",
      "Requirement already satisfied: numpy>=1.21.2 in c:\\users\\91812\\anaconda3\\lib\\site-packages (from opencv-python) (1.24.3)\n",
      "Note: you may need to restart the kernel to use updated packages.\n"
     ]
    }
   ],
   "source": [
    "pip install opencv-python"
   ]
  },
  {
   "cell_type": "code",
   "execution_count": 6,
   "id": "cb004d3f",
   "metadata": {},
   "outputs": [],
   "source": [
    "import face_recognition as fr\n",
    "import numpy as np\n",
    "import cv2\n",
    "import pandas as pd\n",
    "from datetime import datetime \n",
    "\n",
    "# Load known face image and encoding\n",
    "known_face_image = fr.load_image_file(r\"C:\\Users\\91812\\Desktop\\meeh.jpg\")\n",
    "known_face_encoding = fr.face_encodings(known_face_image)[0]\n",
    "known_face_encodings = [known_face_encoding]\n",
    "\n",
    "known_face_names = [\"SWASTI\"]\n",
    "\n",
    "#initialize attendance dictionary\n",
    "\n",
    "attendance={name:False for name in known_face_names}\n",
    "\n",
    "video_capture = cv2.VideoCapture(0)\n",
    "\n",
    "while True:\n",
    "    \n",
    "    ret, frame = video_capture.read()\n",
    "    rgb_frame=frame[:,:,::-1]\n",
    "   \n",
    "    face_locations = fr.face_locations(frame)\n",
    "    face_encodings = fr.face_encodings(frame, face_locations)\n",
    "\n",
    "    for (top, right, bottom, left), face_encoding in zip(face_locations, face_encodings):\n",
    "        # Check if the face matches any known face\n",
    "        matches = fr.compare_faces(known_face_encodings, face_encoding)\n",
    "        name = \"Unknown\"\n",
    "\n",
    "        if True in matches:\n",
    "            first_match_index = matches.index(True)\n",
    "            name = known_face_names[first_match_index]\n",
    "            attendance[name]=True\n",
    "\n",
    "        # Draw rectangle and label on the frame\n",
    "        cv2.rectangle(frame, (left, top), (right, bottom), (0, 0, 255), 2)\n",
    "        font = cv2.FONT_HERSHEY_DUPLEX\n",
    "        cv2.putText(frame, name, (left + 6, bottom - 6), font, 0.5, (255, 255, 255), 1)\n",
    "\n",
    "    # Display the resulting frame\n",
    "    cv2.imshow('Face Recognition', frame)\n",
    "\n",
    "    # Break the loop when 'q' key is pressed\n",
    "    if cv2.waitKey(1) & 0xFF == ord('q'):\n",
    "        break\n",
    "        \n",
    "attendance_records = []\n",
    "timestamp = datetime.now().strftime('%y-%m-%d %H:%M:%S')\n",
    "for name, present in attendance.items():\n",
    "    if present:\n",
    "        attendance_records.append({\"Name\": name, \"Timestamp\": timestamp})\n",
    "\n",
    "attendance_df = pd.DataFrame(attendance_records)\n",
    "attendance_df.to_excel(\"attendance.xlsx\", index=False)\n",
    "       \n",
    "# Release the webcam and close OpenCV windows\n",
    "video_capture.release()\n",
    "cv2.destroyAllWindows()"
   ]
  },
  {
   "cell_type": "code",
   "execution_count": null,
   "id": "877a3de3",
   "metadata": {},
   "outputs": [],
   "source": []
  },
  {
   "cell_type": "code",
   "execution_count": null,
   "id": "20b0915e",
   "metadata": {},
   "outputs": [],
   "source": []
  }
 ],
 "metadata": {
  "kernelspec": {
   "display_name": "Python 3 (ipykernel)",
   "language": "python",
   "name": "python3"
  },
  "language_info": {
   "codemirror_mode": {
    "name": "ipython",
    "version": 3
   },
   "file_extension": ".py",
   "mimetype": "text/x-python",
   "name": "python",
   "nbconvert_exporter": "python",
   "pygments_lexer": "ipython3",
   "version": "3.11.3"
  }
 },
 "nbformat": 4,
 "nbformat_minor": 5
}
